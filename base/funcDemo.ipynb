{
 "cells": [
  {
   "metadata": {},
   "cell_type": "markdown",
   "source": [
    "函数是第一类对象（First-Class Objects）。这意味着函数可以像其他数据类型一样被\n",
    "- 赋值给变量\n",
    "- 作为参数传递给其他函数\n",
    "- 作为函数的返回值\n",
    "- 存储在数据结构中\n"
   ],
   "id": "53c815334155eebb"
  },
  {
   "metadata": {
    "ExecuteTime": {
     "end_time": "2025-09-10T06:17:28.366Z",
     "start_time": "2025-09-10T06:17:28.361779Z"
    }
   },
   "cell_type": "code",
   "outputs": [
    {
     "name": "stdout",
     "output_type": "stream",
     "text": [
      "Hello1!\n",
      "Hello1!\n",
      "Hello1!\n",
      "[1, 4, 9, 16, 25]\n",
      "15\n"
     ]
    }
   ],
   "execution_count": 2,
   "source": [
    "def say_hello():\n",
    "    print(\"Hello1!\")\n",
    "\n",
    "greeting = say_hello\n",
    "greeting()  # 输出: Hello!\n",
    "\n",
    "# 函数可以作为参数传递给其他函数\n",
    "def execute(func):\n",
    "    func()\n",
    "\n",
    "execute(say_hello)  # 输出: Hello!\n",
    "\n",
    "# 函数可以作为返回值\n",
    "def get_greeting():\n",
    "    return say_hello\n",
    "\n",
    "greeting_func = get_greeting()\n",
    "greeting_func()  # 输出: Hello!\n",
    "\n",
    "\n",
    "# map()是一个高阶函数，接受一个函数和一个可迭代对象\n",
    "numbers = [1, 2, 3, 4, 5]\n",
    "squared = map(lambda x: x**2, numbers)\n",
    "print(list(squared))  # 输出: [1, 4, 9, 16, 25]\n",
    "\n",
    "\n",
    "def outer_function(x):\n",
    "    def inner_function(y):\n",
    "        return x + y  # 内部函数可以访问外部函数的变量x\n",
    "    return inner_function\n",
    "\n",
    "closure = outer_function(10)\n",
    "print(closure(5))  # 输出: 15"
   ],
   "id": "63084cb2162ec6a6"
  }
 ],
 "metadata": {
  "kernelspec": {
   "display_name": "py310(langchain_env)",
   "language": "python",
   "name": "langchain_env"
  },
  "language_info": {
   "codemirror_mode": {
    "name": "ipython",
    "version": 2
   },
   "file_extension": ".py",
   "mimetype": "text/x-python",
   "name": "python",
   "nbconvert_exporter": "python",
   "pygments_lexer": "ipython2",
   "version": "2.7.6"
  }
 },
 "nbformat": 4,
 "nbformat_minor": 5
}
