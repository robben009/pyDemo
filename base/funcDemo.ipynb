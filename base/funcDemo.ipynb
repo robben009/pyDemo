{
 "cells": [
  {
   "cell_type": "markdown",
   "id": "d76c7505-f1e1-4534-95ed-e233ec1e372d",
   "metadata": {},
   "source": [
    "# 说明函数"
   ]
  },
  {
   "cell_type": "code",
   "id": "63084cb2162ec6a6",
   "metadata": {
    "ExecuteTime": {
     "end_time": "2025-09-18T03:06:30.918168Z",
     "start_time": "2025-09-18T03:06:30.911889Z"
    }
   },
   "source": [
    "def say_hello():\n",
    "    print(\"Hello12!\")\n",
    "\n",
    "greeting = say_hello\n",
    "greeting()  # 输出: Hello!\n",
    "\n",
    "# 函数可以作为参数传递给其他函数\n",
    "def execute(func):\n",
    "    func()\n",
    "\n",
    "execute(say_hello)  # 输出: Hello!\n",
    "\n",
    "# 函数可以作为返回值\n",
    "def get_greeting():\n",
    "    return say_hello\n",
    "\n",
    "greeting_func = get_greeting()\n",
    "greeting_func()  # 输出: Hello!\n",
    "\n",
    "\n",
    "# map()是一个高阶函数，接受一个函数和一个可迭代对象\n",
    "numbers = [1, 2, 3, 4, 5]\n",
    "squared = map(lambda x: x**2, numbers)\n",
    "print(list(squared))  # 输出: [1, 4, 9, 16, 25]\n",
    "\n",
    "\n",
    "def outer_function(x):\n",
    "    def inner_function(y):\n",
    "        return x + y  # 内部函数可以访问外部函数的变量x\n",
    "    return inner_function\n",
    "\n",
    "closure = outer_function(10)\n",
    "print(closure(5))  # 输出: 15"
   ],
   "outputs": [
    {
     "name": "stdout",
     "output_type": "stream",
     "text": [
      "Hello12!\n",
      "Hello12!\n",
      "Hello12!\n",
      "[1, 4, 9, 16, 25]\n",
      "15\n"
     ]
    }
   ],
   "execution_count": 1
  },
  {
   "cell_type": "markdown",
   "id": "5026ef73163a62e0",
   "metadata": {},
   "source": [
    "另一个理解装饰器的关键概念是闭包（Closure）。闭包是指在一个函数内部定义的函数，并且该内部函数可以访问外部函数的变量，即使外部函数已经执行完毕"
   ]
  },
  {
   "cell_type": "code",
   "execution_count": 4,
   "id": "7838db3b655dc972",
   "metadata": {
    "ExecuteTime": {
     "end_time": "2025-09-10T06:38:54.109362Z",
     "start_time": "2025-09-10T06:38:54.107162Z"
    }
   },
   "outputs": [
    {
     "name": "stdout",
     "output_type": "stream",
     "text": [
      "15\n"
     ]
    }
   ],
   "source": [
    "def outer_function(x):\n",
    "    def inner_function(y):\n",
    "        return x + y  # 内部函数可以访问外部函数的变量x\n",
    "    return inner_function\n",
    "\n",
    "closure = outer_function(10)\n",
    "print(closure(5))  # 输出: 15"
   ]
  },
  {
   "cell_type": "markdown",
   "id": "b7c957fe9eedfef5",
   "metadata": {},
   "source": [
    "# 装饰器"
   ]
  },
  {
   "cell_type": "markdown",
   "id": "c2390d422013cbe",
   "metadata": {},
   "source": [
    "装饰器的基本结构通常包含以下几个部分：\n",
    "装饰器函数：\n",
    "- 接受一个函数作为参数\n",
    "- 包装函数（Wrapper）：定义在装饰器函数内部，用于增强原始函数的功能\n",
    "- 返回包装函数：替换原始函数的调用逻辑"
   ]
  },
  {
   "cell_type": "code",
   "execution_count": null,
   "id": "c3a7796928d1eec5",
   "metadata": {},
   "outputs": [],
   "source": [
    "def decorator_function(original_function):\n",
    "    def wrapper_function():\n",
    "        # 在原始函数调用前执行的代码\n",
    "        result = original_function()  # 调用原始函数\n",
    "        # 在原始函数调用后执行的代码\n",
    "        return result  # 返回原始函数的结果\n",
    "    return wrapper_function"
   ]
  },
  {
   "metadata": {},
   "cell_type": "markdown",
   "source": "有两种使用方式，一种是使用注解",
   "id": "51641b2566fe918"
  },
  {
   "metadata": {
    "ExecuteTime": {
     "end_time": "2025-09-10T06:41:49.138406Z",
     "start_time": "2025-09-10T06:41:49.136021Z"
    }
   },
   "cell_type": "code",
   "outputs": [
    {
     "name": "stdout",
     "output_type": "stream",
     "text": [
      "Before function call\n",
      "Hello, world!\n",
      "After function call\n"
     ]
    }
   ],
   "execution_count": 5,
   "source": [
    "def decorator(func):\n",
    "    def wrapper():\n",
    "        print(\"Before function call\")\n",
    "        func()\n",
    "        print(\"After function call\")\n",
    "    return wrapper\n",
    "\n",
    "@decorator  # 应用装饰器\n",
    "def say_hello():\n",
    "    print(\"Hello, world!\")\n",
    "\n",
    "say_hello()  # 调用装饰后的函数"
   ],
   "id": "5b28a497c36f74c9"
  },
  {
   "metadata": {},
   "cell_type": "markdown",
   "source": "一种是直接调用",
   "id": "6a37ecffc34d9cd6"
  },
  {
   "metadata": {},
   "cell_type": "code",
   "outputs": [],
   "execution_count": null,
   "source": [
    "def decorator(func):\n",
    "    def wrapper():\n",
    "        print(\"Before function call\")\n",
    "        func()\n",
    "        print(\"After function call\")\n",
    "    return wrapper\n",
    "\n",
    "def say_hello():\n",
    "    print(\"Hello, world!\")\n",
    "\n",
    "# 直接应用装饰器\n",
    "say_hello = decorator(say_hello)\n",
    "\n",
    "say_hello()  # 调用装饰后的函数"
   ],
   "id": "9aed6b093b79e462"
  },
  {
   "metadata": {},
   "cell_type": "markdown",
   "source": [
    "前面的例子展示了如何装饰不带参数的函数。当装饰器应用于带参数的函数时，需要确保包装函数能够正确接收和传递参数。\n",
    "这可以通过在包装函数中使用*args和**kwargs来实现，这两个特殊参数可以捕获任意位置参数和关键字参数。"
   ],
   "id": "f4b272d9806d5ca1"
  },
  {
   "metadata": {
    "ExecuteTime": {
     "end_time": "2025-09-10T06:52:22.818905Z",
     "start_time": "2025-09-10T06:52:22.815906Z"
    }
   },
   "cell_type": "code",
   "source": [
    "def decorator(func):\n",
    "    def wrapper(*args, **kwargs):\n",
    "        print(f\"调用函数: {func.__name__}\")\n",
    "        print(f\"参数: args={args}, kwargs={kwargs}\")\n",
    "        result = func(*args, **kwargs)  # 传递参数给原始函数\n",
    "        print(f\"返回值: {result}\")\n",
    "        return result  # 返回原始函数的结果\n",
    "    return wrapper\n",
    "\n",
    "@decorator\n",
    "def add(a, b):\n",
    "    return a + b\n",
    "\n",
    "@decorator\n",
    "def greet(name, greeting=\"Hello\"):\n",
    "    return f\"{greeting}, {name}!\"\n",
    "\n",
    "print(add(3, 5))\n",
    "print(greet(\"Alice\", greeting=\"Hi\"))"
   ],
   "id": "99ee6836f7915b45",
   "outputs": [
    {
     "name": "stdout",
     "output_type": "stream",
     "text": [
      "调用函数: add\n",
      "参数: args=(3, 5), kwargs={}\n",
      "返回值: 8\n",
      "8\n",
      "调用函数: greet\n",
      "参数: args=('Alice',), kwargs={'greeting': 'Hi'}\n",
      "返回值: Hi, Alice!\n",
      "Hi, Alice!\n"
     ]
    }
   ],
   "execution_count": 8
  },
  {
   "metadata": {},
   "cell_type": "markdown",
   "source": "使用装饰器时需要注意一个重要问题：装饰后的函数会丢失原始函数的元数据（如函数名、文档字符串、参数信息等）",
   "id": "b03014edaf42e311"
  },
  {
   "metadata": {
    "ExecuteTime": {
     "end_time": "2025-09-10T06:53:39.854320Z",
     "start_time": "2025-09-10T06:53:39.851757Z"
    }
   },
   "cell_type": "code",
   "source": [
    "def decorator(func):\n",
    "    def wrapper():\n",
    "        print(\"Before function call\")\n",
    "        func()\n",
    "        print(\"After function call\")\n",
    "    return wrapper\n",
    "\n",
    "@decorator\n",
    "def say_hello():\n",
    "    \"\"\"This function says hello.\"\"\"\n",
    "    print(\"Hello, world!\")\n",
    "\n",
    "print(say_hello.__name__)  # 输出: wrapper，而不是say_hello\n",
    "print(say_hello.__doc__)   # 输出: None，而不是\"This function says hello.\""
   ],
   "id": "9742728f383f3b78",
   "outputs": [
    {
     "name": "stdout",
     "output_type": "stream",
     "text": [
      "wrapper\n",
      "None\n"
     ]
    }
   ],
   "execution_count": 9
  },
  {
   "metadata": {},
   "cell_type": "markdown",
   "source": "为了解决这个问题，Python 提供了functools.wraps装饰器，它可以将原始函数的元数据复制到包装函数中",
   "id": "d4248e50ca53aaa5"
  },
  {
   "metadata": {
    "ExecuteTime": {
     "end_time": "2025-09-10T06:54:07.074725Z",
     "start_time": "2025-09-10T06:54:07.071903Z"
    }
   },
   "cell_type": "code",
   "source": [
    "import functools\n",
    "\n",
    "def decorator(func):\n",
    "    @functools.wraps(func)  # 关键！保留原始函数的元数据\n",
    "    def wrapper():\n",
    "        \"\"\"包装函数的文档字符串\"\"\"\n",
    "        print(\"Before function call\")\n",
    "        func()\n",
    "        print(\"After function call\")\n",
    "    return wrapper\n",
    "\n",
    "@decorator\n",
    "def say_hello():\n",
    "    \"\"\"This function says hello.\"\"\"\n",
    "    print(\"Hello, world!\")\n",
    "\n",
    "print(say_hello.__name__)  # 输出: say_hello\n",
    "print(say_hello.__doc__)   # 输出: This function says hello.\n",
    "print(say_hello.__module__)# 输出: __main__"
   ],
   "id": "e473d519a5be6f0a",
   "outputs": [
    {
     "name": "stdout",
     "output_type": "stream",
     "text": [
      "say_hello\n",
      "This function says hello.\n",
      "__main__\n"
     ]
    }
   ],
   "execution_count": 10
  },
  {
   "metadata": {},
   "cell_type": "markdown",
   "source": [
    "到目前为止，我们看到的装饰器本身都不带参数。但有时候，我们希望装饰器能够接受参数，以实现更灵活的配置。例如，一个可以自定义日志级别的日志装饰器。\n",
    "带参数的装饰器需要使用三层嵌套结构：\n",
    "- 最外层函数：接收装饰器参数\n",
    "- 中间层函数：接收原始函数\n",
    "- 最内层包装函数：增强原始函数的功能"
   ],
   "id": "56d0c84adb550dca"
  },
  {
   "metadata": {
    "ExecuteTime": {
     "end_time": "2025-09-10T06:55:46.263465Z",
     "start_time": "2025-09-10T06:55:46.261403Z"
    }
   },
   "cell_type": "code",
   "source": [
    "def decorator_with_args(arg1, arg2):\n",
    "    def decorator(func):\n",
    "        @functools.wraps(func)\n",
    "        def wrapper(*args, **kwargs):\n",
    "            # 可以使用arg1和arg2\n",
    "            result = func(*args, **kwargs)\n",
    "            return result\n",
    "        return wrapper\n",
    "    return decorator"
   ],
   "id": "9112928291055178",
   "outputs": [],
   "execution_count": 11
  },
  {
   "metadata": {
    "ExecuteTime": {
     "end_time": "2025-09-10T06:56:35.830087Z",
     "start_time": "2025-09-10T06:56:35.827273Z"
    }
   },
   "cell_type": "code",
   "source": [
    "import functools\n",
    "\n",
    "def log_with_level(level=\"INFO\"):\n",
    "    def decorator(func):\n",
    "        @functools.wraps(func)\n",
    "        def wrapper(*args, **kwargs):\n",
    "            print(f\"[{level}] - 开始执行 {func.__name__}...\")\n",
    "            result = func(*args, **kwargs)\n",
    "            print(f\"[{level}] - {func.__name__} 执行完毕。\")\n",
    "            return result\n",
    "        return wrapper\n",
    "    return decorator\n",
    "\n",
    "@log_with_level(level=\"DEBUG\")  # 传递装饰器参数\n",
    "def process_data():\n",
    "    print(\"Processing data...\")\n",
    "\n",
    "process_data()"
   ],
   "id": "ae9e5acf6bc81e64",
   "outputs": [
    {
     "name": "stdout",
     "output_type": "stream",
     "text": [
      "[DEBUG22] - 开始执行 process_data...\n",
      "Processing data...\n",
      "[DEBUG22] - process_data 执行完毕。\n"
     ]
    }
   ],
   "execution_count": 15
  },
  {
   "metadata": {},
   "cell_type": "markdown",
   "source": [
    "五、类装饰器\n",
    "除了函数装饰器外，Python 还支持使用类作为装饰器。类装饰器提供了更多的灵活性和状态管理能力，特别适合需要维护复杂状态的场景​\n",
    "。\n",
    "5.1 类装饰器的基本结构\n",
    "类装饰器需要实现__init__和__call__方法：\n",
    "__init__方法：初始化装饰器实例，接收被装饰的函数作为参数\n",
    "__call__方法：实现装饰逻辑，类似于函数装饰器中的包装函数"
   ],
   "id": "926b2984e06c155a"
  },
  {
   "metadata": {},
   "cell_type": "code",
   "outputs": [],
   "execution_count": null,
   "source": [
    "class DecoratorClass:\n",
    "    def __init__(self, func):\n",
    "        self.func = func  # 保存原始函数\n",
    "        functools.wraps(func)(self)  # 保留原始函数的元数据\n",
    "\n",
    "    def __call__(self, *args, **kwargs):\n",
    "        # 在原始函数调用前执行的代码\n",
    "        result = self.func(*args, **kwargs)  # 调用原始函数\n",
    "        # 在原始函数调用后执行的代码\n",
    "        return result  # 返回原始函数的结果"
   ],
   "id": "ec22658b559fbfe9"
  },
  {
   "metadata": {
    "ExecuteTime": {
     "end_time": "2025-09-10T07:26:48.387901Z",
     "start_time": "2025-09-10T07:26:48.384960Z"
    }
   },
   "cell_type": "code",
   "source": [
    "# 以下是一个使用类装饰器实现的日志记录器\n",
    "\n",
    "import functools\n",
    "\n",
    "class LogDecorator:\n",
    "    def __init__(self, func):\n",
    "        self.func = func\n",
    "        functools.wraps(func)(self)  # 保留原始函数的元数据\n",
    "\n",
    "    def __call__(self, *args, **kwargs):\n",
    "        print(f\"调用函数: {self.func.__name__},args={args}, kwargs={kwargs}\")\n",
    "        result = self.func(*args, **kwargs)\n",
    "        print(f\"返回值: {result}\")\n",
    "        return result\n",
    "\n",
    "@LogDecorator  # 应用类装饰器\n",
    "def add(a, b):\n",
    "    return a + b\n",
    "\n",
    "print(add(3, 5))"
   ],
   "id": "4777bf6b1b313fd7",
   "outputs": [
    {
     "name": "stdout",
     "output_type": "stream",
     "text": [
      "调用函数: add,args=(3, 5), kwargs={}\n",
      "返回值: 8\n",
      "8\n"
     ]
    }
   ],
   "execution_count": 19
  },
  {
   "metadata": {},
   "cell_type": "markdown",
   "source": "类装饰器也可以接受参数，这需要在__init__方法中处理参数，并在__call__方法中实现装饰逻辑",
   "id": "834631de62bb8bad"
  },
  {
   "metadata": {
    "ExecuteTime": {
     "end_time": "2025-09-10T07:22:35.187343Z",
     "start_time": "2025-09-10T07:22:35.184362Z"
    }
   },
   "cell_type": "code",
   "source": [
    "import functools\n",
    "\n",
    "class RepeatDecorator:\n",
    "    def __init__(self, num_times):\n",
    "        self.num_times = num_times  # 保存装饰器参数\n",
    "\n",
    "    def __call__(self, func):\n",
    "        @functools.wraps(func)\n",
    "        def wrapper(*args, **kwargs):\n",
    "            results = []\n",
    "            for a in range(self.num_times):\n",
    "                results.append(func(*args, **kwargs))\n",
    "            return results\n",
    "        return wrapper\n",
    "\n",
    "@RepeatDecorator(num_times=3)  # 应用带参数的类装饰器\n",
    "def greet(name):\n",
    "    print(f\"Hello, {name}!\")\n",
    "    return f\"Greeted {name}\"\n",
    "\n",
    "results = greet(\"Alice\")\n",
    "print(results)"
   ],
   "id": "decbb437f805b719",
   "outputs": [
    {
     "name": "stdout",
     "output_type": "stream",
     "text": [
      "Hello, Alice!\n",
      "Hello, Alice!\n",
      "Hello, Alice!\n",
      "['Greeted Alice', 'Greeted Alice', 'Greeted Alice']\n"
     ]
    }
   ],
   "execution_count": 18
  },
  {
   "metadata": {},
   "cell_type": "markdown",
   "source": "装饰器在模块加载时执行，而不是在函数调用时执行。这意味着装饰器代码在模块导入时就会被执行，而装饰后的函数替换过程也在此时完成",
   "id": "38f81836236da6a4"
  },
  {
   "metadata": {},
   "cell_type": "code",
   "outputs": [],
   "execution_count": null,
   "source": [
    "# 模块开始加载时\n",
    "print(\"模块开始加载\")\n",
    "\n",
    "def decorator(func):\n",
    "    print(\"装饰器被定义\")\n",
    "    @functools.wraps(func)\n",
    "    def wrapper():\n",
    "        print(\"包装函数被调用\")\n",
    "        func()\n",
    "    return wrapper\n",
    "\n",
    "@decorator  # 模块加载时，装饰器立即执行，替换say_hello函数\n",
    "def say_hello():\n",
    "    print(\"Hello!\")\n",
    "\n",
    "print(\"模块加载完成\")\n",
    "\n",
    "say_hello()  # 模块加载完成后调用"
   ],
   "id": "4805107295d35021"
  },
  {
   "metadata": {},
   "cell_type": "code",
   "outputs": [],
   "execution_count": null,
   "source": [
    "@decorator\n",
    "def say_hello():\n",
    "    pass\n",
    "\n",
    "say_hello.__wrapped__()  # 直接调用原始函数，绕过装饰器"
   ],
   "id": "6edbdc2a1141d01c"
  }
 ],
 "metadata": {
  "kernelspec": {
   "display_name": "py310(langchain_env)",
   "language": "python",
   "name": "langchain_env"
  },
  "language_info": {
   "codemirror_mode": {
    "name": "ipython",
    "version": 3
   },
   "file_extension": ".py",
   "mimetype": "text/x-python",
   "name": "python",
   "nbconvert_exporter": "python",
   "pygments_lexer": "ipython3",
   "version": "3.10.18"
  }
 },
 "nbformat": 4,
 "nbformat_minor": 5
}
